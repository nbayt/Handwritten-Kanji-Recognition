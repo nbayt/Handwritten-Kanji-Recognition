{
 "cells": [
  {
   "cell_type": "code",
   "execution_count": 1,
   "id": "b59fdeb7-aae4-4b76-9560-ecc566727da7",
   "metadata": {},
   "outputs": [],
   "source": [
    "import torch\n",
    "import numpy as np\n",
    "import os, time\n",
    "import matplotlib.pyplot as plt\n",
    "import matplotlib\n",
    "\n",
    "import torch.nn as nn\n",
    "import torch.nn.functional as F\n",
    "import torch.optim as optim\n",
    "\n",
    "from torchvision.transforms import v2\n",
    "\n",
    "from tqdm import tqdm\n",
    "from PIL import Image\n",
    "from PIL.Image import Image as IMG\n",
    "from torchinfo import summary\n",
    "\n",
    "from sklearn.model_selection import train_test_split\n",
    "\n",
    "from IPython.display import clear_output\n",
    "\n",
    "import models\n",
    "\n",
    "%matplotlib inline"
   ]
  },
  {
   "cell_type": "code",
   "execution_count": 2,
   "id": "38320ab2",
   "metadata": {},
   "outputs": [
    {
     "data": {
      "text/plain": [
       "<module 'models' from 'd:\\\\CodingProjects\\\\CSC-761\\\\models.py'>"
      ]
     },
     "execution_count": 2,
     "metadata": {},
     "output_type": "execute_result"
    }
   ],
   "source": [
    "import importlib; importlib.reload(models)"
   ]
  },
  {
   "cell_type": "markdown",
   "id": "99bba410",
   "metadata": {},
   "source": [
    "https://docs.python.org/3/tutorial/modules.html"
   ]
  },
  {
   "cell_type": "code",
   "execution_count": 3,
   "id": "108dde2b",
   "metadata": {},
   "outputs": [],
   "source": [
    "def char_to_hex(chr):\n",
    "    return hex(ord(chr))\n",
    "def hex_to_char(hex):\n",
    "    if type(hex) == int:\n",
    "        return chr(hex)\n",
    "    else:\n",
    "        return chr(int(hex, 16))\n",
    "def read_image_data(path):\n",
    "    img = Image.open(path)\n",
    "    if not img.size[0] == 128 or not img.size[1] == 128:\n",
    "        img = img.resize((128,128))\n",
    "    #img = img.transform(img.size, Image.AFFINE, (1,0,-10,0,1,0), fillcolor='white')\n",
    "    #img.show()\n",
    "    img_dat = np.array([img], dtype=np.uint8)\n",
    "    img.close()\n",
    "    #print(img_dat.shape)\n",
    "    if(len(img_dat.shape) == 4):\n",
    "        img_dat = np.average(img_dat, axis=3)\n",
    "    #print(img_dat.shape)\n",
    "    return img_dat"
   ]
  },
  {
   "cell_type": "code",
   "execution_count": 4,
   "id": "1be15086",
   "metadata": {},
   "outputs": [
    {
     "name": "stdout",
     "output_type": "stream",
     "text": [
      "け\n",
      "0x3051\n"
     ]
    },
    {
     "data": {
      "text/plain": [
       "(1, 128, 128)"
      ]
     },
     "execution_count": 4,
     "metadata": {},
     "output_type": "execute_result"
    }
   ],
   "source": [
    "print(hex_to_char('0x3051'))\n",
    "print(char_to_hex('け'))\n",
    "read_image_data('./user_samples/04.png').shape"
   ]
  },
  {
   "cell_type": "code",
   "execution_count": 5,
   "id": "9c8fcc98",
   "metadata": {},
   "outputs": [],
   "source": [
    "def shift_images(images, x_shift=0, y_shift=0):\n",
    "    if not len(images.size()) == 4:\n",
    "        print('Input should be in dim of 4, with form BxCxHxW')\n",
    "        return\n",
    "    # dim 2 = y, positive down.\n",
    "    # dim 3 = x, positive right.\n",
    "    # Both will wrap around.\n",
    "    # dim 0 would be batch, and 1 the channels\n",
    "    # https://pytorch.org/docs/stable/generated/torch.roll.html\n",
    "    images = torch.roll(images, shifts=(x_shift, -1 * y_shift), dims=(3, 2))\n",
    "    return images"
   ]
  },
  {
   "cell_type": "code",
   "execution_count": 6,
   "id": "e833b478-0e95-4223-9947-e549f1840638",
   "metadata": {},
   "outputs": [],
   "source": [
    "Output_Dest = './ETL Character DataBase/Outputs/'\n",
    "Output_Dest = 'C:/Outputs/'\n",
    "\n",
    "RAND_NOISE = 28.0 # To aid with training.\n",
    "BATCH_SIZE = 100 # Memory dependant. Can go much higher when using conv2d 176 for vit\n",
    "NUM_CLASSES = 0"
   ]
  },
  {
   "cell_type": "code",
   "execution_count": 7,
   "id": "f9853a27",
   "metadata": {},
   "outputs": [],
   "source": [
    "# str hex to int label\n",
    "classes = dict() \n",
    "# Int label to str hex\n",
    "inverted_classes = dict()\n",
    "# Actual image data\n",
    "img_labels = []\n",
    "loaded_labels = False"
   ]
  },
  {
   "cell_type": "code",
   "execution_count": 8,
   "id": "740a7cc0",
   "metadata": {},
   "outputs": [
    {
     "name": "stdout",
     "output_type": "stream",
     "text": [
      "Loaded from file!\n"
     ]
    }
   ],
   "source": [
    "if os.path.isfile('labels_mapping.txt'):\n",
    "    dat = torch.load('labels_mapping.txt')\n",
    "    classes = dat['classes']\n",
    "    inverted_classes = dat['inverted_classes']\n",
    "    loaded_labels=True\n",
    "    print('Loaded from file!')\n",
    "    NUM_CLASSES = len(classes)"
   ]
  },
  {
   "cell_type": "code",
   "execution_count": 11,
   "id": "c1a28fb8",
   "metadata": {},
   "outputs": [],
   "source": [
    "#with open('allchars.txt', 'w') as file:\n",
    "#    count = 0\n",
    "#    for key in inverted_classes:\n",
    "#        _char = hex_to_char(inverted_classes[key])\n",
    "#        if count > 70:\n",
    "#            count = 0\n",
    "#            file.write('\\n')\n",
    "#        file.write(_char)\n",
    "#        count+=1\n",
    "#    file.close()"
   ]
  },
  {
   "cell_type": "code",
   "execution_count": 12,
   "id": "3a6e7bf7",
   "metadata": {},
   "outputs": [
    {
     "name": "stdout",
     "output_type": "stream",
     "text": [
      "3040\n"
     ]
    }
   ],
   "source": [
    "print(len(inverted_classes))"
   ]
  },
  {
   "cell_type": "code",
   "execution_count": 9,
   "id": "55a2efa0",
   "metadata": {},
   "outputs": [
    {
     "name": "stdout",
     "output_type": "stream",
     "text": [
      "960 0x6027 性\n",
      "960 0x6027 性\n"
     ]
    }
   ],
   "source": [
    "# Next two should match\n",
    "print(classes['0x6027'], inverted_classes[960], hex_to_char(inverted_classes[960]))\n",
    "print(960, '0x6027', hex_to_char('0x6027'))"
   ]
  },
  {
   "cell_type": "code",
   "execution_count": 10,
   "id": "c719cfc8",
   "metadata": {},
   "outputs": [
    {
     "name": "stdout",
     "output_type": "stream",
     "text": [
      "Skipping initial label reading, already loaded from file.\n"
     ]
    },
    {
     "name": "stderr",
     "output_type": "stream",
     "text": [
      "100%|█████████████████████████████| 3040/3040 [04:29<00:00, 11.26it/s]"
     ]
    },
    {
     "name": "stdout",
     "output_type": "stream",
     "text": [
      "Finished reading in samples after 269.9478032588959 seconds.\n"
     ]
    },
    {
     "name": "stderr",
     "output_type": "stream",
     "text": [
      "\n"
     ]
    }
   ],
   "source": [
    "load_start = time.time()\n",
    "# Initial load for labels\n",
    "if not loaded_labels:\n",
    "    for path, dirs, files in os.walk(Output_Dest):\n",
    "        for dir in dirs:\n",
    "            label = len(classes)\n",
    "            classes[dir] = label\n",
    "            inverted_classes[label] = dir\n",
    "        break\n",
    "    NUM_CLASSES = len(classes)\n",
    "else:\n",
    "    print('Skipping initial label reading, already loaded from file.')\n",
    "for elm in tqdm(classes, ncols=70):\n",
    "    for path, _, files in os.walk(os.path.join(Output_Dest, elm)):\n",
    "        for file in files:\n",
    "            full_path = os.path.join(path, file)\n",
    "            image = Image.open(full_path)\n",
    "            image_data = np.array([image], dtype=np.uint8)\n",
    "            image.close()\n",
    "            img_labels.append((full_path, elm, image_data))\n",
    "print('Finished reading in samples after '+str(time.time()-load_start)+' seconds.')"
   ]
  },
  {
   "cell_type": "code",
   "execution_count": 11,
   "id": "f6b2d6e3",
   "metadata": {},
   "outputs": [],
   "source": [
    "torch.save({'classes': classes,\n",
    "            'inverted_classes': inverted_classes},\n",
    "            'labels_mapping.txt')"
   ]
  },
  {
   "cell_type": "code",
   "execution_count": 12,
   "id": "42d0a861",
   "metadata": {},
   "outputs": [
    {
     "name": "stdout",
     "output_type": "stream",
     "text": [
      "761116 3040\n"
     ]
    }
   ],
   "source": [
    "print(len(img_labels), len(classes))"
   ]
  },
  {
   "cell_type": "code",
   "execution_count": 13,
   "id": "03c2dd26",
   "metadata": {},
   "outputs": [],
   "source": [
    "# With help from https://pytorch.org/tutorials/beginner/basics/data_tutorial.html\n",
    "from torch.utils.data import Dataset\n",
    "from torch.utils.data import DataLoader\n",
    "class KanjiImageDataset(Dataset):\n",
    "    def __init__(self, x_set, y_set):\n",
    "        self.x = x_set\n",
    "        self.y = y_set\n",
    "        self.classes = classes\n",
    "    def __len__(self):\n",
    "        return len(self.x)\n",
    "    def __getitem__(self, idx):\n",
    "        image_data = self.x[idx]\n",
    "        label = self.classes[self.y[idx]]\n",
    "\n",
    "        return image_data, label"
   ]
  },
  {
   "cell_type": "code",
   "execution_count": 14,
   "id": "9e144deb",
   "metadata": {},
   "outputs": [],
   "source": [
    "X, Y, Z = zip(*img_labels)"
   ]
  },
  {
   "cell_type": "code",
   "execution_count": 15,
   "id": "35b5485b",
   "metadata": {},
   "outputs": [
    {
     "name": "stdout",
     "output_type": "stream",
     "text": [
      "532781 532781 228335 228335\n",
      "532781\n",
      "228335\n"
     ]
    }
   ],
   "source": [
    "x_train, x_test, y_train, y_test = train_test_split(Z, Y, test_size=0.3, random_state=42)\n",
    "print(len(x_train), len(y_train), len(x_test), len(y_test))\n",
    "train_dataset = KanjiImageDataset(x_train, y_train)\n",
    "test_dataset = KanjiImageDataset(x_test, y_test)\n",
    "print(len(train_dataset))\n",
    "print(len(test_dataset))"
   ]
  },
  {
   "cell_type": "code",
   "execution_count": 16,
   "id": "8cf9eb38",
   "metadata": {},
   "outputs": [
    {
     "data": {
      "text/plain": [
       "device(type='cuda', index=0)"
      ]
     },
     "execution_count": 16,
     "metadata": {},
     "output_type": "execute_result"
    }
   ],
   "source": [
    "DEVICE = 'cpu'\n",
    "if torch.cuda.is_available():\n",
    "    DEVICE = 'cuda:0'\n",
    "DEVICE = torch.device(DEVICE)\n",
    "DEVICE"
   ]
  },
  {
   "cell_type": "code",
   "execution_count": 17,
   "id": "b2ad8533",
   "metadata": {},
   "outputs": [
    {
     "name": "stdout",
     "output_type": "stream",
     "text": [
      "True\n",
      "False\n"
     ]
    }
   ],
   "source": [
    "# Showing that katakana is not in the samples\n",
    "print(char_to_hex('ず') in classes)\n",
    "print(char_to_hex('ズ') in classes)"
   ]
  },
  {
   "cell_type": "code",
   "execution_count": 18,
   "id": "94fb7d0d",
   "metadata": {},
   "outputs": [],
   "source": [
    "BATCHES_PER_ITR = 1"
   ]
  },
  {
   "cell_type": "code",
   "execution_count": 19,
   "id": "8688ad3f",
   "metadata": {},
   "outputs": [
    {
     "data": {
      "text/plain": [
       "5328"
      ]
     },
     "execution_count": 19,
     "metadata": {},
     "output_type": "execute_result"
    }
   ],
   "source": [
    "train_data_loader = DataLoader(train_dataset, batch_size=BATCH_SIZE, shuffle=True)\n",
    "test_data_loader = DataLoader(test_dataset, batch_size=BATCH_SIZE, shuffle=True)\n",
    "BATCHES_PER_ITR = len(train_data_loader)\n",
    "BATCHES_PER_ITR"
   ]
  },
  {
   "cell_type": "code",
   "execution_count": 20,
   "id": "317e05e7",
   "metadata": {},
   "outputs": [],
   "source": [
    "transforms = v2.Compose([\n",
    "    v2.RandomAffine(degrees=0, scale=(0.6,1.6), interpolation=v2.InterpolationMode.NEAREST, fill=255),\n",
    "    v2.RandomAffine(degrees=(-10,10), translate=(0.25,0.25), interpolation=v2.InterpolationMode.NEAREST, fill=255),\n",
    "    v2.RandomPerspective(distortion_scale=0.35, p=0.15, interpolation=v2.InterpolationMode.NEAREST, fill=255)\n",
    "])"
   ]
  },
  {
   "cell_type": "code",
   "execution_count": 21,
   "id": "c8cbcbc0",
   "metadata": {},
   "outputs": [],
   "source": [
    "#matplotlib.font_manager.get_font_names()"
   ]
  },
  {
   "cell_type": "code",
   "execution_count": 22,
   "id": "53139760",
   "metadata": {},
   "outputs": [],
   "source": [
    "train_features, train_labels = next(iter(train_data_loader))"
   ]
  },
  {
   "cell_type": "code",
   "execution_count": 23,
   "id": "71f96c83",
   "metadata": {},
   "outputs": [
    {
     "data": {
      "image/png": "[encoded data removed]",
      "text/plain": [
       "<Figure size 600x600 with 8 Axes>"
      ]
     },
     "metadata": {},
     "output_type": "display_data"
    },
    {
     "name": "stdout",
     "output_type": "stream",
     "text": [
      "2467 0x8a2d 設\n"
     ]
    }
   ],
   "source": [
    "img = Image.fromarray(train_features[0].squeeze().numpy(), mode=\"L\")\n",
    "label = train_labels[0].item()\n",
    "fig = plt.figure(figsize=(6,6))\n",
    "fig.suptitle(f'{label}, {inverted_classes[label]}, {hex_to_char(inverted_classes[label])}', family = 'Kozuka Gothic Pro')\n",
    "ax = fig.add_subplot(2,4,1)\n",
    "plt.imshow(img, cmap='gray', vmin=0.0, vmax=255.0)\n",
    "for i in range(2,9):\n",
    "    img = Image.fromarray(transforms(train_features)[0].squeeze().numpy(), mode=\"L\")\n",
    "    ax = fig.add_subplot(2,4,i)\n",
    "    plt.imshow(img, cmap='gray', vmin=0.0, vmax=255.0)\n",
    "    #ax.set_axis_off()\n",
    "#plt.savefig('./documentation/Augmentation_Example.png')\n",
    "plt.show()\n",
    "print(label, inverted_classes[label], hex_to_char(inverted_classes[label]))"
   ]
  },
  {
   "cell_type": "code",
   "execution_count": 24,
   "id": "58190c89",
   "metadata": {},
   "outputs": [
    {
     "data": {
      "text/plain": [
       "<module 'models' from 'd:\\\\CodingProjects\\\\CSC-761\\\\models.py'>"
      ]
     },
     "execution_count": 24,
     "metadata": {},
     "output_type": "execute_result"
    }
   ],
   "source": [
    "import importlib; importlib.reload(models)"
   ]
  },
  {
   "cell_type": "code",
   "execution_count": 78,
   "id": "8aa798fa",
   "metadata": {},
   "outputs": [
    {
     "name": "stdout",
     "output_type": "stream",
     "text": [
      "ResNet(\n",
      "  (conv1): Conv2d(1, 64, kernel_size=(7, 7), stride=(2, 2), padding=(3, 3), bias=False)\n",
      "  (bn1): BatchNorm2d(64, eps=1e-05, momentum=0.1, affine=True, track_running_stats=True)\n",
      "  (relu): ReLU(inplace=True)\n",
      "  (maxpool): MaxPool2d(kernel_size=3, stride=2, padding=1, dilation=1, ceil_mode=False)\n",
      "  (layer1): Sequential(\n",
      "    (0): BasicBlock(\n",
      "      (conv1): Conv2d(64, 64, kernel_size=(3, 3), stride=(1, 1), padding=(1, 1), bias=False)\n",
      "      (bn1): BatchNorm2d(64, eps=1e-05, momentum=0.1, affine=True, track_running_stats=True)\n",
      "      (relu): ReLU(inplace=True)\n",
      "      (conv2): Conv2d(64, 64, kernel_size=(3, 3), stride=(1, 1), padding=(1, 1), bias=False)\n",
      "      (bn2): BatchNorm2d(64, eps=1e-05, momentum=0.1, affine=True, track_running_stats=True)\n",
      "    )\n",
      "    (1): BasicBlock(\n",
      "      (conv1): Conv2d(64, 64, kernel_size=(3, 3), stride=(1, 1), padding=(1, 1), bias=False)\n",
      "      (bn1): BatchNorm2d(64, eps=1e-05, momentum=0.1, affine=True, track_running_stats=True)\n",
      "      (relu): ReLU(inplace=True)\n",
      "      (conv2): Conv2d(64, 64, kernel_size=(3, 3), stride=(1, 1), padding=(1, 1), bias=False)\n",
      "      (bn2): BatchNorm2d(64, eps=1e-05, momentum=0.1, affine=True, track_running_stats=True)\n",
      "    )\n",
      "  )\n",
      "  (layer2): Sequential(\n",
      "    (0): BasicBlock(\n",
      "      (conv1): Conv2d(64, 128, kernel_size=(3, 3), stride=(2, 2), padding=(1, 1), bias=False)\n",
      "      (bn1): BatchNorm2d(128, eps=1e-05, momentum=0.1, affine=True, track_running_stats=True)\n",
      "      (relu): ReLU(inplace=True)\n",
      "      (conv2): Conv2d(128, 128, kernel_size=(3, 3), stride=(1, 1), padding=(1, 1), bias=False)\n",
      "      (bn2): BatchNorm2d(128, eps=1e-05, momentum=0.1, affine=True, track_running_stats=True)\n",
      "      (downsample): Sequential(\n",
      "        (0): Conv2d(64, 128, kernel_size=(1, 1), stride=(2, 2), bias=False)\n",
      "        (1): BatchNorm2d(128, eps=1e-05, momentum=0.1, affine=True, track_running_stats=True)\n",
      "      )\n",
      "    )\n",
      "    (1): BasicBlock(\n",
      "      (conv1): Conv2d(128, 128, kernel_size=(3, 3), stride=(1, 1), padding=(1, 1), bias=False)\n",
      "      (bn1): BatchNorm2d(128, eps=1e-05, momentum=0.1, affine=True, track_running_stats=True)\n",
      "      (relu): ReLU(inplace=True)\n",
      "      (conv2): Conv2d(128, 128, kernel_size=(3, 3), stride=(1, 1), padding=(1, 1), bias=False)\n",
      "      (bn2): BatchNorm2d(128, eps=1e-05, momentum=0.1, affine=True, track_running_stats=True)\n",
      "    )\n",
      "  )\n",
      "  (layer3): Sequential(\n",
      "    (0): BasicBlock(\n",
      "      (conv1): Conv2d(128, 256, kernel_size=(3, 3), stride=(2, 2), padding=(1, 1), bias=False)\n",
      "      (bn1): BatchNorm2d(256, eps=1e-05, momentum=0.1, affine=True, track_running_stats=True)\n",
      "      (relu): ReLU(inplace=True)\n",
      "      (conv2): Conv2d(256, 256, kernel_size=(3, 3), stride=(1, 1), padding=(1, 1), bias=False)\n",
      "      (bn2): BatchNorm2d(256, eps=1e-05, momentum=0.1, affine=True, track_running_stats=True)\n",
      "      (downsample): Sequential(\n",
      "        (0): Conv2d(128, 256, kernel_size=(1, 1), stride=(2, 2), bias=False)\n",
      "        (1): BatchNorm2d(256, eps=1e-05, momentum=0.1, affine=True, track_running_stats=True)\n",
      "      )\n",
      "    )\n",
      "    (1): BasicBlock(\n",
      "      (conv1): Conv2d(256, 256, kernel_size=(3, 3), stride=(1, 1), padding=(1, 1), bias=False)\n",
      "      (bn1): BatchNorm2d(256, eps=1e-05, momentum=0.1, affine=True, track_running_stats=True)\n",
      "      (relu): ReLU(inplace=True)\n",
      "      (conv2): Conv2d(256, 256, kernel_size=(3, 3), stride=(1, 1), padding=(1, 1), bias=False)\n",
      "      (bn2): BatchNorm2d(256, eps=1e-05, momentum=0.1, affine=True, track_running_stats=True)\n",
      "    )\n",
      "  )\n",
      "  (layer4): Sequential(\n",
      "    (0): BasicBlock(\n",
      "      (conv1): Conv2d(256, 512, kernel_size=(3, 3), stride=(2, 2), padding=(1, 1), bias=False)\n",
      "      (bn1): BatchNorm2d(512, eps=1e-05, momentum=0.1, affine=True, track_running_stats=True)\n",
      "      (relu): ReLU(inplace=True)\n",
      "      (conv2): Conv2d(512, 512, kernel_size=(3, 3), stride=(1, 1), padding=(1, 1), bias=False)\n",
      "      (bn2): BatchNorm2d(512, eps=1e-05, momentum=0.1, affine=True, track_running_stats=True)\n",
      "      (downsample): Sequential(\n",
      "        (0): Conv2d(256, 512, kernel_size=(1, 1), stride=(2, 2), bias=False)\n",
      "        (1): BatchNorm2d(512, eps=1e-05, momentum=0.1, affine=True, track_running_stats=True)\n",
      "      )\n",
      "    )\n",
      "    (1): BasicBlock(\n",
      "      (conv1): Conv2d(512, 512, kernel_size=(3, 3), stride=(1, 1), padding=(1, 1), bias=False)\n",
      "      (bn1): BatchNorm2d(512, eps=1e-05, momentum=0.1, affine=True, track_running_stats=True)\n",
      "      (relu): ReLU(inplace=True)\n",
      "      (conv2): Conv2d(512, 512, kernel_size=(3, 3), stride=(1, 1), padding=(1, 1), bias=False)\n",
      "      (bn2): BatchNorm2d(512, eps=1e-05, momentum=0.1, affine=True, track_running_stats=True)\n",
      "    )\n",
      "  )\n",
      "  (avgpool): AdaptiveAvgPool2d(output_size=(1, 1))\n",
      "  (fc): Linear(in_features=512, out_features=3040, bias=True)\n",
      ")\n",
      "==========================================================================================\n",
      "Layer (type:depth-idx)                   Output Shape              Param #\n",
      "==========================================================================================\n",
      "ResNet                                   [100, 3040]               --\n",
      "├─Conv2d: 1-1                            [100, 64, 64, 64]         3,136\n",
      "├─BatchNorm2d: 1-2                       [100, 64, 64, 64]         (128)\n",
      "├─ReLU: 1-3                              [100, 64, 64, 64]         --\n",
      "├─MaxPool2d: 1-4                         [100, 64, 32, 32]         --\n",
      "├─Sequential: 1-5                        [100, 64, 32, 32]         --\n",
      "│    └─BasicBlock: 2-1                   [100, 64, 32, 32]         --\n",
      "│    │    └─Conv2d: 3-1                  [100, 64, 32, 32]         (36,864)\n",
      "│    │    └─BatchNorm2d: 3-2             [100, 64, 32, 32]         (128)\n",
      "│    │    └─ReLU: 3-3                    [100, 64, 32, 32]         --\n",
      "│    │    └─Conv2d: 3-4                  [100, 64, 32, 32]         (36,864)\n",
      "│    │    └─BatchNorm2d: 3-5             [100, 64, 32, 32]         (128)\n",
      "│    │    └─ReLU: 3-6                    [100, 64, 32, 32]         --\n",
      "│    └─BasicBlock: 2-2                   [100, 64, 32, 32]         --\n",
      "│    │    └─Conv2d: 3-7                  [100, 64, 32, 32]         (36,864)\n",
      "│    │    └─BatchNorm2d: 3-8             [100, 64, 32, 32]         (128)\n",
      "│    │    └─ReLU: 3-9                    [100, 64, 32, 32]         --\n",
      "│    │    └─Conv2d: 3-10                 [100, 64, 32, 32]         (36,864)\n",
      "│    │    └─BatchNorm2d: 3-11            [100, 64, 32, 32]         (128)\n",
      "│    │    └─ReLU: 3-12                   [100, 64, 32, 32]         --\n",
      "├─Sequential: 1-6                        [100, 128, 16, 16]        --\n",
      "│    └─BasicBlock: 2-3                   [100, 128, 16, 16]        --\n",
      "│    │    └─Conv2d: 3-13                 [100, 128, 16, 16]        (73,728)\n",
      "│    │    └─BatchNorm2d: 3-14            [100, 128, 16, 16]        (256)\n",
      "│    │    └─ReLU: 3-15                   [100, 128, 16, 16]        --\n",
      "│    │    └─Conv2d: 3-16                 [100, 128, 16, 16]        (147,456)\n",
      "│    │    └─BatchNorm2d: 3-17            [100, 128, 16, 16]        (256)\n",
      "│    │    └─Sequential: 3-18             [100, 128, 16, 16]        (8,448)\n",
      "│    │    └─ReLU: 3-19                   [100, 128, 16, 16]        --\n",
      "│    └─BasicBlock: 2-4                   [100, 128, 16, 16]        --\n",
      "│    │    └─Conv2d: 3-20                 [100, 128, 16, 16]        (147,456)\n",
      "│    │    └─BatchNorm2d: 3-21            [100, 128, 16, 16]        (256)\n",
      "│    │    └─ReLU: 3-22                   [100, 128, 16, 16]        --\n",
      "│    │    └─Conv2d: 3-23                 [100, 128, 16, 16]        (147,456)\n",
      "│    │    └─BatchNorm2d: 3-24            [100, 128, 16, 16]        (256)\n",
      "│    │    └─ReLU: 3-25                   [100, 128, 16, 16]        --\n",
      "├─Sequential: 1-7                        [100, 256, 8, 8]          --\n",
      "│    └─BasicBlock: 2-5                   [100, 256, 8, 8]          --\n",
      "│    │    └─Conv2d: 3-26                 [100, 256, 8, 8]          (294,912)\n",
      "│    │    └─BatchNorm2d: 3-27            [100, 256, 8, 8]          (512)\n",
      "│    │    └─ReLU: 3-28                   [100, 256, 8, 8]          --\n",
      "│    │    └─Conv2d: 3-29                 [100, 256, 8, 8]          (589,824)\n",
      "│    │    └─BatchNorm2d: 3-30            [100, 256, 8, 8]          (512)\n",
      "│    │    └─Sequential: 3-31             [100, 256, 8, 8]          (33,280)\n",
      "│    │    └─ReLU: 3-32                   [100, 256, 8, 8]          --\n",
      "│    └─BasicBlock: 2-6                   [100, 256, 8, 8]          --\n",
      "│    │    └─Conv2d: 3-33                 [100, 256, 8, 8]          (589,824)\n",
      "│    │    └─BatchNorm2d: 3-34            [100, 256, 8, 8]          (512)\n",
      "│    │    └─ReLU: 3-35                   [100, 256, 8, 8]          --\n",
      "│    │    └─Conv2d: 3-36                 [100, 256, 8, 8]          (589,824)\n",
      "│    │    └─BatchNorm2d: 3-37            [100, 256, 8, 8]          (512)\n",
      "│    │    └─ReLU: 3-38                   [100, 256, 8, 8]          --\n",
      "├─Sequential: 1-8                        [100, 512, 4, 4]          --\n",
      "│    └─BasicBlock: 2-7                   [100, 512, 4, 4]          --\n",
      "│    │    └─Conv2d: 3-39                 [100, 512, 4, 4]          (1,179,648)\n",
      "│    │    └─BatchNorm2d: 3-40            [100, 512, 4, 4]          (1,024)\n",
      "│    │    └─ReLU: 3-41                   [100, 512, 4, 4]          --\n",
      "│    │    └─Conv2d: 3-42                 [100, 512, 4, 4]          (2,359,296)\n",
      "│    │    └─BatchNorm2d: 3-43            [100, 512, 4, 4]          (1,024)\n",
      "│    │    └─Sequential: 3-44             [100, 512, 4, 4]          (132,096)\n",
      "│    │    └─ReLU: 3-45                   [100, 512, 4, 4]          --\n",
      "│    └─BasicBlock: 2-8                   [100, 512, 4, 4]          --\n",
      "│    │    └─Conv2d: 3-46                 [100, 512, 4, 4]          (2,359,296)\n",
      "│    │    └─BatchNorm2d: 3-47            [100, 512, 4, 4]          (1,024)\n",
      "│    │    └─ReLU: 3-48                   [100, 512, 4, 4]          --\n",
      "│    │    └─Conv2d: 3-49                 [100, 512, 4, 4]          (2,359,296)\n",
      "│    │    └─BatchNorm2d: 3-50            [100, 512, 4, 4]          (1,024)\n",
      "│    │    └─ReLU: 3-51                   [100, 512, 4, 4]          --\n",
      "├─AdaptiveAvgPool2d: 1-9                 [100, 512, 1, 1]          --\n",
      "├─Linear: 1-10                           [100, 3040]               1,559,520\n",
      "==========================================================================================\n",
      "Total params: 12,729,760\n",
      "Trainable params: 1,562,656\n",
      "Non-trainable params: 11,167,104\n",
      "Total mult-adds (Units.GIGABYTES): 56.81\n",
      "==========================================================================================\n",
      "Input size (MB): 6.55\n",
      "Forward/backward pass size (MB): 1300.04\n",
      "Params size (MB): 50.92\n",
      "Estimated Total Size (MB): 1357.52\n",
      "==========================================================================================\n"
     ]
    }
   ],
   "source": [
    "model, optimizer, scheduler = models.construct_resnet_18(NUM_CLASSES, BATCHES_PER_ITR)\n",
    "model = model.to(DEVICE)\n",
    "print(model)\n",
    "print(summary(model, input_size=(BATCH_SIZE,1,128,128)))"
   ]
  },
  {
   "cell_type": "code",
   "execution_count": 26,
   "id": "2afc0dd1",
   "metadata": {},
   "outputs": [
    {
     "name": "stderr",
     "output_type": "stream",
     "text": [
      "d:\\CodingProjects\\CSC-761\\models.py:209: UserWarning: To copy construct from a tensor, it is recommended to use sourceTensor.clone().detach() or sourceTensor.clone().detach().requires_grad_(True), rather than torch.tensor(sourceTensor).\n",
      "  self.pos_embed = nn.Parameter(torch.tensor(self.get_positional_embeddings(self.num_patches + 1, self.hidden_dim)))\n"
     ]
    },
    {
     "name": "stdout",
     "output_type": "stream",
     "text": [
      "===============================================================================================\n",
      "Layer (type:depth-idx)                        Output Shape              Param #\n",
      "===============================================================================================\n",
      "VITNet_v4                                     [100, 3040]               7,138,560\n",
      "├─Sequential: 1-1                             [100, 64, 768]            --\n",
      "│    └─Linear: 2-1                            [100, 64, 3072]           789,504\n",
      "│    └─ReLU: 2-2                              [100, 64, 3072]           --\n",
      "│    └─Linear: 2-3                            [100, 64, 768]            2,360,064\n",
      "│    └─BatchNorm1d: 2-4                       [100, 64, 768]            128\n",
      "│    └─ReLU: 2-5                              [100, 64, 768]            --\n",
      "│    └─Dropout: 2-6                           [100, 64, 768]            --\n",
      "├─TransformerEncoder: 1-2                     [100, 65, 768]            --\n",
      "│    └─ModuleList: 2-7                        --                        --\n",
      "│    │    └─TransformerEncoderLayer: 3-1      [100, 65, 768]            7,087,872\n",
      "│    │    └─TransformerEncoderLayer: 3-2      [100, 65, 768]            7,087,872\n",
      "│    │    └─TransformerEncoderLayer: 3-3      [100, 65, 768]            7,087,872\n",
      "│    │    └─TransformerEncoderLayer: 3-4      [100, 65, 768]            7,087,872\n",
      "│    │    └─TransformerEncoderLayer: 3-5      [100, 65, 768]            7,087,872\n",
      "│    │    └─TransformerEncoderLayer: 3-6      [100, 65, 768]            7,087,872\n",
      "│    │    └─TransformerEncoderLayer: 3-7      [100, 65, 768]            7,087,872\n",
      "│    │    └─TransformerEncoderLayer: 3-8      [100, 65, 768]            7,087,872\n",
      "│    │    └─TransformerEncoderLayer: 3-9      [100, 65, 768]            7,087,872\n",
      "│    │    └─TransformerEncoderLayer: 3-10     [100, 65, 768]            7,087,872\n",
      "│    │    └─TransformerEncoderLayer: 3-11     [100, 65, 768]            7,087,872\n",
      "│    │    └─TransformerEncoderLayer: 3-12     [100, 65, 768]            7,087,872\n",
      "├─Sequential: 1-3                             [100, 3040]               --\n",
      "│    └─Linear: 2-8                            [100, 4096]               3,149,824\n",
      "│    └─BatchNorm1d: 2-9                       [100, 4096]               8,192\n",
      "│    └─ReLU: 2-10                             [100, 4096]               --\n",
      "│    └─Dropout: 2-11                          [100, 4096]               --\n",
      "│    └─Linear: 2-12                           [100, 3072]               12,585,984\n",
      "│    └─Tanh: 2-13                             [100, 3072]               --\n",
      "│    └─Linear: 2-14                           [100, 3040]               9,341,920\n",
      "│    └─Sigmoid: 2-15                          [100, 3040]               --\n",
      "===============================================================================================\n",
      "Total params: 120,428,640\n",
      "Trainable params: 120,378,720\n",
      "Non-trainable params: 49,920\n",
      "Total mult-adds (Units.GIGABYTES): 2.82\n",
      "===============================================================================================\n",
      "Input size (MB): 6.55\n",
      "Forward/backward pass size (MB): 247.37\n",
      "Params size (MB): 112.94\n",
      "Estimated Total Size (MB): 366.87\n",
      "===============================================================================================\n"
     ]
    },
    {
     "name": "stderr",
     "output_type": "stream",
     "text": [
      "c:\\Users\\nickb\\anaconda3\\envs\\csc761projectcuda\\Lib\\site-packages\\torch\\nn\\modules\\transformer.py:685: UserWarning: 1Torch was not compiled with flash attention. (Triggered internally at C:\\cb\\pytorch_1000000000000\\work\\aten\\src\\ATen\\native\\transformers\\cuda\\sdp_utils.cpp:263.)\n",
      "  return torch._transformer_encoder_layer_fwd(\n"
     ]
    }
   ],
   "source": [
    "model, optimizer, scheduler = models.construct_vit_v4_2(NUM_CLASSES, BATCHES_PER_ITR)\n",
    "model = model.to(DEVICE)\n",
    "\n",
    "#plt.imshow(vit_net.get_positional_embeddings(65, 128), cmap=\"hot\", interpolation=\"nearest\")\n",
    "#plt.show()\n",
    "\n",
    "#print(vit_net(torch.rand(BATCH_SIZE, 1, 128, 128).to(DEVICE)).size())\n",
    "#print(vit_net)\n",
    "print(summary(model, input_size=(BATCH_SIZE, 1, 128, 128)))"
   ]
  },
  {
   "cell_type": "code",
   "execution_count": 79,
   "id": "37c5d75f",
   "metadata": {},
   "outputs": [],
   "source": [
    "torch.cuda.empty_cache()"
   ]
  },
  {
   "cell_type": "code",
   "execution_count": 80,
   "id": "33489da3",
   "metadata": {},
   "outputs": [],
   "source": [
    "history_x = []\n",
    "history_y = []"
   ]
  },
  {
   "cell_type": "code",
   "execution_count": 81,
   "id": "2a6475d2",
   "metadata": {},
   "outputs": [],
   "source": [
    "# Loss Function\n",
    "criterion = nn.CrossEntropyLoss()"
   ]
  },
  {
   "cell_type": "markdown",
   "id": "2c20ad1b",
   "metadata": {},
   "source": [
    "https://discuss.pytorch.org/t/how-to-save-and-load-lr-scheduler-stats-in-pytorch/20208"
   ]
  },
  {
   "cell_type": "code",
   "execution_count": 98,
   "id": "4028b611",
   "metadata": {},
   "outputs": [],
   "source": [
    "BEST_CHKPNT = '_res_18_9_70.96%_0.0%'+'.pth'\n",
    "RESUME = True\n",
    "SAVEPATH = './checkpoints/'\n",
    "last_epoch_num = 0"
   ]
  },
  {
   "cell_type": "code",
   "execution_count": 99,
   "id": "9b9dabd1",
   "metadata": {},
   "outputs": [],
   "source": [
    "def load_from_checkpoint(_full_path, _model, _optim, _sched):\n",
    "    global last_epoch_num\n",
    "    global history_x, history_y\n",
    "    if os.path.isfile(_full_path):\n",
    "        checkpoint = torch.load(_full_path)\n",
    "        _model.load_state_dict(checkpoint['model'])\n",
    "        _model.to(DEVICE)\n",
    "        _optim.load_state_dict(checkpoint['optimizer'])\n",
    "        _sched.load_state_dict(checkpoint['scheduler'])\n",
    "        last_epoch_num = checkpoint['epoch']\n",
    "        his = checkpoint['history']\n",
    "        history_x, history_y = his\n",
    "        print('Successfully loaded all params!')\n",
    "        print(f'Epoch: {last_epoch_num}')\n",
    "    else:\n",
    "        print('File not found or some other error.')"
   ]
  },
  {
   "cell_type": "code",
   "execution_count": 100,
   "id": "84f0f6b9",
   "metadata": {},
   "outputs": [
    {
     "name": "stdout",
     "output_type": "stream",
     "text": [
      "Successfully loaded all params!\n",
      "Epoch: 9\n"
     ]
    }
   ],
   "source": [
    "if RESUME:\n",
    "    _full_path = os.path.join(SAVEPATH, BEST_CHKPNT)\n",
    "    load_from_checkpoint(_full_path, model, optimizer, scheduler)\n",
    "else:\n",
    "    print('Did not resume.')        "
   ]
  },
  {
   "cell_type": "code",
   "execution_count": 101,
   "id": "0e02a105",
   "metadata": {},
   "outputs": [],
   "source": [
    "# from: https://discuss.pytorch.org/t/obtain-the-attention-weights-within-transformer-class/165456\n",
    "#attn_weights = vit_net.encoder_layer.state_dict()['self_attn.in_proj_weight']\n",
    "#attn_weights[0]"
   ]
  },
  {
   "cell_type": "code",
   "execution_count": 102,
   "id": "9505105f",
   "metadata": {},
   "outputs": [],
   "source": [
    "def save_checkpoint(_path, _model, _opti, _scheduler, _history, _epoch):\n",
    "    state = {'model': _model.state_dict(),\n",
    "             'optimizer': _opti.state_dict(),\n",
    "             'scheduler': _scheduler.state_dict(),\n",
    "             'history': _history,\n",
    "             'epoch': _epoch}\n",
    "    torch.save(state, _path)"
   ]
  },
  {
   "cell_type": "code",
   "execution_count": 103,
   "id": "5af7d892",
   "metadata": {},
   "outputs": [
    {
     "data": {
      "text/plain": [
       "9"
      ]
     },
     "execution_count": 103,
     "metadata": {},
     "output_type": "execute_result"
    }
   ],
   "source": [
    "last_epoch_num"
   ]
  },
  {
   "cell_type": "code",
   "execution_count": 104,
   "id": "efc95441",
   "metadata": {},
   "outputs": [],
   "source": [
    "#for param_ in vit_optimizer.param_groups:\n",
    "#    param_['lr'] = 0.001"
   ]
  },
  {
   "cell_type": "code",
   "execution_count": 105,
   "id": "d9629520",
   "metadata": {},
   "outputs": [],
   "source": [
    "#vit_optimizer.param_groups"
   ]
  },
  {
   "cell_type": "code",
   "execution_count": 106,
   "id": "09e31f2a",
   "metadata": {},
   "outputs": [
    {
     "name": "stdout",
     "output_type": "stream",
     "text": [
      "[0.05000]\n"
     ]
    }
   ],
   "source": [
    "print(f'[{scheduler.get_last_lr()[0]:.5f}]')"
   ]
  },
  {
   "cell_type": "code",
   "execution_count": 107,
   "id": "03f3d742",
   "metadata": {},
   "outputs": [
    {
     "name": "stderr",
     "output_type": "stream",
     "text": [
      "100%|██████████████████████████| 3040/3040 [00:00<00:00, 10780.21it/s]"
     ]
    },
    {
     "name": "stdout",
     "output_type": "stream",
     "text": [
      "Finished reading in all evaluation samples.\n",
      "65\n",
      "1\n"
     ]
    },
    {
     "name": "stderr",
     "output_type": "stream",
     "text": [
      "\n"
     ]
    }
   ],
   "source": [
    "# Read in the user samples\n",
    "EVAL_PATH = './user_samples/eval/'\n",
    "eval_images = []\n",
    "for elm in tqdm(classes, ncols=70):\n",
    "    for path, _, files in os.walk(os.path.join(EVAL_PATH, elm)):\n",
    "        for file in files:\n",
    "            full_path = os.path.join(path, file)\n",
    "            image_data = read_image_data(full_path)\n",
    "            eval_images.append((full_path, elm, image_data))\n",
    "print('Finished reading in all evaluation samples.')\n",
    "_, eval_y, eval_z = zip(*eval_images)\n",
    "eval_dataset = KanjiImageDataset(eval_z, eval_y)\n",
    "print(len(eval_dataset))\n",
    "eval_data_loader = DataLoader(eval_dataset, batch_size=BATCH_SIZE, shuffle=True)\n",
    "print(len(eval_data_loader))"
   ]
  },
  {
   "cell_type": "code",
   "execution_count": 108,
   "id": "ad81a12d",
   "metadata": {},
   "outputs": [],
   "source": [
    "def preprocess_minibatch(mini_batch, transform = False, noise=0.0):\n",
    "    inputs, labels = mini_batch\n",
    "    inputs = inputs.to(torch.float32)\n",
    "    # First, transform the training set randomly is requested.\n",
    "    if transform:\n",
    "        inputs = transforms(inputs)\n",
    "    # Next, add random noise to the image if requested to help with training, keep clamped within [0, 255].\n",
    "    if noise > 0.0:\n",
    "        inputs = torch.clamp(inputs + torch.randn_like(inputs) * RAND_NOISE, 0.0, 255.0)\n",
    "    # Invert and normazlize from [0,1]\n",
    "    inputs = 1.0 - (inputs / 255.0)\n",
    "    inputs, labels = inputs.to(DEVICE), labels.to(DEVICE)\n",
    "    return inputs, labels"
   ]
  },
  {
   "cell_type": "code",
   "execution_count": 109,
   "id": "407e031f",
   "metadata": {},
   "outputs": [],
   "source": [
    "def evaluate_model(_model, _data_loader, transform=False, top_n=5):\n",
    "    correct = 0\n",
    "    top_five_correct = 0\n",
    "    total = 0\n",
    "    lsm = nn.LogSoftmax(dim=1)\n",
    "    mrr = []\n",
    "    class_correct = {classlabel: 0 for classlabel in inverted_classes}\n",
    "    class_total = {classlabel: 0 for classlabel in inverted_classes}\n",
    "    class_top_five_correct = {classlabel: 0 for classlabel in inverted_classes}\n",
    "    with torch.no_grad():\n",
    "        _model.train(False)\n",
    "        for mini_batch in tqdm(_data_loader, desc='Evaluation:', ncols=80):\n",
    "            inputs, labels = preprocess_minibatch(mini_batch, transform=transform)\n",
    "\n",
    "            outputs = _model(inputs)\n",
    "            _, preds = torch.max(lsm(outputs.data), dim=1)\n",
    "            total += labels.size(0)\n",
    "            correct += (preds == labels).sum().item()\n",
    "            top_five_correct += (preds == labels).sum().item()\n",
    "\n",
    "            for label, pred in zip(labels, preds):\n",
    "                label = label.item()\n",
    "                pred = pred.item()\n",
    "                if label == pred:\n",
    "                    class_correct[label] += 1\n",
    "                    class_top_five_correct[label] += 1\n",
    "                class_total[label] += 1\n",
    "\n",
    "            mrr.append((preds == labels).sum().item())\n",
    "            for i in range(top_n-1):\n",
    "                # Set the top predicted logit for each sample to zero, this will be the lowest going in softmax.\n",
    "                for j in range(inputs.size()[0]):\n",
    "                    outputs[j][preds[j]] = 0.0\n",
    "                label, preds = torch.max(lsm(outputs.data), dim=1)\n",
    "                top_five_correct += (preds == labels).sum().item()\n",
    "                for label, pred in zip(labels, preds):\n",
    "                    label = label.item()\n",
    "                    pred = pred.item()\n",
    "                    if label == pred:\n",
    "                        class_top_five_correct[label] += 1\n",
    "                mrr.append((preds == labels).sum().item() / (i+1))\n",
    "        print(f'{(correct/total)*100:.3f}%', f'| Top {top_n} Chance:',\n",
    "              f'{(top_five_correct/total)*100:.3f}%', 'MRR:', f'{np.sum(mrr)/total:.4f}')\n",
    "    return (class_correct, class_total, class_top_five_correct)"
   ]
  },
  {
   "cell_type": "code",
   "execution_count": 110,
   "id": "e080e72b",
   "metadata": {},
   "outputs": [],
   "source": [
    "def train_model(_model, optimizer, scheduler, chk_prfk, num_epochs = 5,\n",
    "                _offset = 0, _scheduler_update_on_epoch = True):\n",
    "    global last_epoch_num\n",
    "    running_loss = 0.0\n",
    "    lsm = nn.LogSoftmax(dim=1)\n",
    "\n",
    "    for epoch in range(num_epochs):\n",
    "        \n",
    "        epoch_start = time.time()\n",
    "        _model.train(True)\n",
    "        running_loss = 0.0\n",
    "        # Training loop\n",
    "        correct,total,train_percent = 0,0,0\n",
    "        for mini_batch in tqdm(train_data_loader, desc=f'Epoch {last_epoch_num+1}', ncols=80):\n",
    "            #clear_output(wait=True)\n",
    "            inputs, labels = preprocess_minibatch(mini_batch)\n",
    "            \n",
    "            # Zero grad, predict and run loss\n",
    "            optimizer.zero_grad()\n",
    "            outputs = _model(inputs)\n",
    "            loss = criterion(outputs, labels)\n",
    "            loss.backward()\n",
    "            optimizer.step()\n",
    "            if not _scheduler_update_on_epoch:\n",
    "                scheduler.step()\n",
    "\n",
    "            # Collect training metrics\n",
    "            running_loss += loss.item()\n",
    "            _, preds = torch.max(lsm(outputs.data), dim=1)\n",
    "            total += labels.size(0)\n",
    "            correct += (preds == labels).sum().item()\n",
    "        train_percent = (correct/total)*100\n",
    "        epoch_time = time.time() - epoch_start\n",
    "        last_epoch_num = _offset + epoch + 1\n",
    "        print('Epoch', f'{last_epoch_num}:', f'Loss: {(running_loss / len(train_data_loader)):.2f}',\n",
    "              '| Accuracy:', f'{(correct/total)*100:.3f}%',\n",
    "              'Time Taken:', f'{int(epoch_time/60)}m {(epoch_time%60):.2f}s',\n",
    "              '| LR:', f'[{scheduler.get_last_lr()[0]:.5f}]')\n",
    "        running_loss = 0.0\n",
    "        if _scheduler_update_on_epoch:\n",
    "            scheduler.step()\n",
    "\n",
    "        # Validation Loop.\n",
    "        correct = 0\n",
    "        total = 0\n",
    "        with torch.no_grad():\n",
    "            _model.train(False)\n",
    "            for mini_batch in tqdm(test_data_loader, desc='- Validation', ncols=80):\n",
    "                inputs, labels = preprocess_minibatch(mini_batch)\n",
    "\n",
    "                outputs = _model(inputs)\n",
    "                loss = criterion(outputs, labels)\n",
    "                _, preds = torch.max(lsm(outputs.data), dim=1)\n",
    "\n",
    "                total += labels.size(0)\n",
    "                correct += (preds == labels).sum().item()\n",
    "            validation_percent = (correct/total)*100\n",
    "            \n",
    "        # Finally Eval to check for overfitting on user created.\n",
    "        eval_total, eval_correct = 0, 0\n",
    "        with torch.no_grad():\n",
    "            _model.train(False)\n",
    "            for mini_batch in eval_data_loader:\n",
    "                inputs, labels = preprocess_minibatch(mini_batch)\n",
    "\n",
    "                outputs = _model(inputs)\n",
    "                eval_loss = criterion(outputs, labels)\n",
    "                _, preds = torch.max(lsm(outputs.data), dim=1)\n",
    "\n",
    "                eval_total += labels.size(0)\n",
    "                eval_correct += (preds == labels).sum().item()\n",
    "            eval_percent = (eval_correct/eval_total)*100\n",
    "        history_x.append([len(history_x)+1, len(history_x)+1, len(history_x)+1])\n",
    "        history_y.append([train_percent, validation_percent, eval_percent])\n",
    "        total_time = time.time()-epoch_start\n",
    "        print('-', 'Validation: '+f'{validation_percent:.3f}%',\n",
    "              'Training: '+f'{train_percent:.3f}%',\n",
    "              'Evaluation: '+f'{eval_percent:.3f}%',\n",
    "              f'Val Loss: {loss:.2f}',\n",
    "              f'Eval Loss: {eval_loss:.2f}',\n",
    "              'Total Time Taken:', f'{int(total_time/60)}m {(total_time%60):.2f}s')\n",
    "        save_path = SAVEPATH+'_'+chk_prfk+'_'+str(last_epoch_num)+f'_{validation_percent:.2f}%_{eval_percent:.1f}%'+'.pth'\n",
    "        save_checkpoint(save_path, _model, optimizer, scheduler, (history_x, history_y), last_epoch_num)\n",
    "    print('Done training.')"
   ]
  },
  {
   "cell_type": "code",
   "execution_count": 96,
   "id": "b9879c77",
   "metadata": {},
   "outputs": [
    {
     "name": "stderr",
     "output_type": "stream",
     "text": [
      "Epoch 9: 100%|██████████████████████████████| 5328/5328 [03:22<00:00, 26.35it/s]\n"
     ]
    },
    {
     "name": "stdout",
     "output_type": "stream",
     "text": [
      "Epoch 9: Loss: 0.71 | Accuracy: 81.837% Time Taken: 3m 22.17s | LR: [0.05000]\n"
     ]
    },
    {
     "name": "stderr",
     "output_type": "stream",
     "text": [
      "- Validation: 100%|█████████████████████████| 2284/2284 [00:40<00:00, 55.90it/s]\n"
     ]
    },
    {
     "name": "stdout",
     "output_type": "stream",
     "text": [
      "- Validation: 70.956% Training: 81.837% Evaluation: 0.000% Val Loss: 1.03 Eval Loss: 14.86 Total Time Taken: 4m 3.10s\n"
     ]
    },
    {
     "name": "stderr",
     "output_type": "stream",
     "text": [
      "Epoch 10: 100%|█████████████████████████████| 5328/5328 [03:40<00:00, 24.15it/s]\n"
     ]
    },
    {
     "name": "stdout",
     "output_type": "stream",
     "text": [
      "Epoch 10: Loss: 0.64 | Accuracy: 83.437% Time Taken: 3m 40.61s | LR: [0.05000]\n"
     ]
    },
    {
     "name": "stderr",
     "output_type": "stream",
     "text": [
      "- Validation: 100%|█████████████████████████| 2284/2284 [00:39<00:00, 57.18it/s]"
     ]
    },
    {
     "name": "stdout",
     "output_type": "stream",
     "text": [
      "- Validation: 70.830% Training: 83.437% Evaluation: 0.000% Val Loss: 1.27 Eval Loss: 16.18 Total Time Taken: 4m 20.57s\n",
      "Done training.\n"
     ]
    },
    {
     "name": "stderr",
     "output_type": "stream",
     "text": [
      "\n"
     ]
    }
   ],
   "source": [
    "train_model(model, optimizer, scheduler, 'res_18', num_epochs = 2,\n",
    "            _offset = last_epoch_num, _scheduler_update_on_epoch=False)"
   ]
  },
  {
   "cell_type": "code",
   "execution_count": 97,
   "id": "24cc8270",
   "metadata": {},
   "outputs": [
    {
     "data": {
      "image/png": "[encoded data removed]",
      "text/plain": [
       "<Figure size 640x480 with 1 Axes>"
      ]
     },
     "metadata": {},
     "output_type": "display_data"
    }
   ],
   "source": [
    "fig, ax = plt.subplots()\n",
    "fig.suptitle(f'ResNet-18 Accuracy')\n",
    "ax.plot(history_x, history_y)\n",
    "ax.legend(['Train Accuracy', 'Validation Accuracy', 'Evaluation Accuracy'])\n",
    "ax.set_xlabel('Epoch')\n",
    "ax.set_ylabel('Accuracy')\n",
    "#plt.savefig('VitNet_V4-2.png', bbox_inches='tight')\n",
    "plt.show()"
   ]
  },
  {
   "cell_type": "code",
   "execution_count": 44,
   "id": "9b98da25",
   "metadata": {},
   "outputs": [],
   "source": [
    "for path, folders, files in os.walk(SAVEPATH):\n",
    "    break\n",
    "    for file in files:\n",
    "        if '_v4_1_' in file:\n",
    "            _chckpnt = os.path.join(path, file)\n",
    "            print(_chckpnt)\n",
    "            load_from_checkpoint(_chckpnt)\n",
    "            _,_,_ = evaluate_model(vit_net, eval_data_loader, transform=False, top_n=5)\n",
    "    break"
   ]
  },
  {
   "cell_type": "code",
   "execution_count": 112,
   "id": "804c22d4",
   "metadata": {},
   "outputs": [
    {
     "name": "stderr",
     "output_type": "stream",
     "text": [
      "Evaluation:: 100%|████████████████████████████████| 1/1 [00:00<00:00,  5.05it/s]"
     ]
    },
    {
     "name": "stdout",
     "output_type": "stream",
     "text": [
      "0.000% | Top 5 Chance: 1.538% MRR: 0.0038\n"
     ]
    },
    {
     "name": "stderr",
     "output_type": "stream",
     "text": [
      "\n"
     ]
    }
   ],
   "source": [
    "correct_counts, total_counts, correct_topn_counts = evaluate_model(model, eval_data_loader, transform=False, top_n=5)"
   ]
  },
  {
   "cell_type": "code",
   "execution_count": 113,
   "id": "a7e9d821",
   "metadata": {},
   "outputs": [
    {
     "name": "stdout",
     "output_type": "stream",
     "text": [
      "Percent Correct Total ID Top5\n",
      "(0.0,    0 / 0001, 0.0) う\n",
      "(0.0,    0 / 0001, 0.0) 保\n",
      "(0.0,    0 / 0001, 0.0) 八\n",
      "(0.0,    0 / 0001, 0.0) 団\n",
      "(0.0,    0 / 0001, 0.0) 圭\n",
      "(0.0,    0 / 0001, 0.0) 妙\n",
      "(0.0,    0 / 0001, 0.0) 桁\n",
      "(0.0,    0 / 0001, 0.0) 磐\n",
      "(0.0,    0 / 0002, 0.0) ぱ\n",
      "(0.0,    0 / 0002, 0.0) 九\n",
      "(0.0,    0 / 0002, 0.0) 佑\n",
      "(0.0,    0 / 0002, 0.0) 侭\n",
      "(0.0,    0 / 0002, 0.0) 努\n",
      "(0.0,    0 / 0002, 0.0) 南\n",
      "(0.0,    0 / 0002, 0.0) 及\n",
      "(0.0,    0 / 0002, 0.0) 呉\n",
      "(0.0,    0 / 0002, 0.0) 因\n",
      "(0.0,    0 / 0002, 0.0) 域\n",
      "(0.0,    0 / 0002, 0.0) 妥\n",
      "(0.0,    0 / 0002, 0.0) 容\n",
      "(0.0,    0 / 0002, 50.0) 怒\n",
      "(0.0,    0 / 0002, 0.0) 搭\n",
      "(0.0,    0 / 0002, 0.0) 武\n",
      "(0.0,    0 / 0002, 0.0) 源\n",
      "(0.0,    0 / 0002, 0.0) 炉\n",
      "(0.0,    0 / 0002, 0.0) 皿\n",
      "(0.0,    0 / 0002, 0.0) 賂\n",
      "(0.0,    0 / 0002, 0.0) 述\n",
      "(0.0,    0 / 0002, 0.0) 隣\n",
      "(0.0,    0 / 0002, 0.0) 題\n",
      "(0.0,    0 / 0002, 0.0) 首\n",
      "(0.0,    0 / 0002, 0.0) 鯨\n",
      "(0.0,    0 / 0003, 0.0) と\n",
      "(0.0,    0 / 0003, 0.0) 捌\n",
      "(0.0,    0 / 0003, 0.0) 日\n"
     ]
    }
   ],
   "source": [
    "class_accs = []\n",
    "show_best = False\n",
    "for label in total_counts:\n",
    "    if total_counts[label] > 0:\n",
    "        class_accs.append((100 * (correct_counts[label] / total_counts[label]),\n",
    "                           correct_counts[label], total_counts[label], label,\n",
    "                           100 * (correct_topn_counts[label] / total_counts[label])))\n",
    "class_accs = sorted(class_accs, reverse=show_best)\n",
    "print('Percent Correct Total ID Top5')\n",
    "for itr in range(min(40, len(class_accs))):\n",
    "    _a, _b, _c, _, _d = class_accs[itr]\n",
    "    print(f'({_a:.1f}, {_b:4d} / {_c:04d}, {_d:.1f})', hex_to_char(inverted_classes[class_accs[itr][3]]))"
   ]
  },
  {
   "cell_type": "code",
   "execution_count": 62,
   "id": "4590713f",
   "metadata": {},
   "outputs": [],
   "source": [
    "def model_predict(_model, imgs, labels, noise = 0.0, top_n=10, transform = False):\n",
    "    lsm = nn.LogSoftmax(dim=1)\n",
    "\n",
    "    # some checks \n",
    "    if(not (type(imgs) == torch.Tensor) or not (type(labels) == torch.Tensor)):\n",
    "        return\n",
    "    \n",
    "    # Add dims as needed\n",
    "    if(len(imgs.size()) == 3):\n",
    "        imgs = imgs[None, :, :, :]\n",
    "\n",
    "    # We actually only predict the first record\n",
    "    img = Image.fromarray(imgs[0].squeeze().numpy(), mode=\"L\")\n",
    "\n",
    "    if noise > 0.0:\n",
    "        img_dat = imgs[0].squeeze()\n",
    "        img_dat = img_dat.to(torch.float32)\n",
    "        img_dat = torch.clamp(img_dat + torch.randn_like(img_dat) * noise, 0.0, 255.0)\n",
    "        img = Image.fromarray(img_dat.to(torch.uint8).numpy(), mode=\"L\")\n",
    "    label = labels[0].item()\n",
    "    plt.imshow(img, cmap='gray')\n",
    "    plt.show()\n",
    "    print(label, inverted_classes[label], hex_to_char(inverted_classes[label]))\n",
    "\n",
    "    possible_choices = []\n",
    "    choices_weights = []\n",
    "    with torch.no_grad():\n",
    "        _model.train(False)\n",
    "\n",
    "        inputs, labels = preprocess_minibatch((imgs, labels), transform, noise)\n",
    "        \n",
    "        inputs = imgs.to(torch.float32)\n",
    "        inputs = torch.clamp(inputs + torch.randn_like(inputs) * noise, 0.0, 255.0)\n",
    "        inputs = 1.0 - (inputs / 255.0)\n",
    "\n",
    "        inputs, labels = inputs.to(DEVICE), labels.to(DEVICE)\n",
    "        outputs = _model(inputs)\n",
    "        \n",
    "        for _ in range(top_n):\n",
    "            weights, preds = torch.max(lsm(outputs.data), dim=1)\n",
    "            choice = preds[0].item()\n",
    "            possible_choices.append(choice)\n",
    "            outputs[0][choice] = 0.0\n",
    "            choices_weights.append(weights[0])\n",
    "        for index, elm in enumerate(zip(possible_choices, choices_weights)):\n",
    "            choice, weight = elm\n",
    "            print(f'Rank: {(index+1):2d} {choice:05d} {hex_to_char(inverted_classes[choice])} {choice == labels[0].item()} {weight}')\n",
    "            #print('Rank: ', index+1, choice, hex_to_char(inverted_classes[choice]), choice == labels[0].item(), weight)"
   ]
  },
  {
   "cell_type": "code",
   "execution_count": 63,
   "id": "fceeaa9f",
   "metadata": {},
   "outputs": [],
   "source": [
    "def check_patches(images, noise, do_save = False, transform=False):\n",
    "    fig = plt.figure(figsize=(3, 3))\n",
    "    fig.add_subplot(1,1,1)\n",
    "    plt.imshow(Image.fromarray(images[0].squeeze().numpy(), mode=\"L\"), cmap='gray')\n",
    "    print(images.size())\n",
    "\n",
    "    if transform:\n",
    "        images = transforms(images)\n",
    "\n",
    "    # Add optional random noise to the image, kept clamped within [0, 255]\n",
    "    images = images.to(torch.float32)\n",
    "    images = torch.clamp(images + torch.randn_like(images) * noise, 0.0, 255.0)\n",
    "    images = 1.0 - (images / 255.0)\n",
    "\n",
    "    patches = model.patchify(images, images.size()[0])\n",
    "\n",
    "    patches = patches.reshape(images.size()[0],64,16,16)\n",
    "    patch = patches[0] * 255.0\n",
    "\n",
    "    fig = plt.figure(figsize=(3, 3))\n",
    "    fig.add_subplot(1,1,1)\n",
    "    plt.imshow(Image.fromarray(images[0].squeeze().numpy()*255.0, mode=\"F\"), cmap='gray', vmin=0.0, vmax=255.0)\n",
    "\n",
    "    fig = plt.figure(figsize=(5, 5), layout = 'tight')\n",
    "    for itr, pat in enumerate(patch):\n",
    "        fig.add_subplot(8,8,itr+1)\n",
    "        patch_img = Image.fromarray(pat.squeeze().numpy(), mode=\"F\")\n",
    "        if do_save:\n",
    "            save_img = patch_img.convert(mode='L')\n",
    "            save_img.save(f'./documentation/patches/{itr}.png')\n",
    "        plt.imshow(patch_img, cmap='gray', vmin=0.0, vmax=255.0)\n",
    "        plt.axis('off') "
   ]
  },
  {
   "cell_type": "code",
   "execution_count": 71,
   "id": "96bd12b9",
   "metadata": {},
   "outputs": [],
   "source": [
    "sample_data_, sample_label_ = next(iter(eval_data_loader))"
   ]
  },
  {
   "cell_type": "code",
   "execution_count": 72,
   "id": "8ae83f2a",
   "metadata": {},
   "outputs": [
    {
     "data": {
      "image/png": "[encoded data removed]",
      "text/plain": [
       "<Figure size 640x480 with 1 Axes>"
      ]
     },
     "metadata": {},
     "output_type": "display_data"
    },
    {
     "name": "stdout",
     "output_type": "stream",
     "text": [
      "352 0x52aa 努\n",
      "Rank:  1 00352 努 True -7.022242546081543\n",
      "Rank:  2 02001 答 False -7.05429220199585\n",
      "Rank:  3 00505 啓 False -7.065649032592773\n",
      "Rank:  4 00735 容 False -7.6507039070129395\n",
      "Rank:  5 01998 筏 False -7.778780937194824\n",
      "Rank:  6 01247 智 False -7.832596778869629\n",
      "Rank:  7 01788 留 False -7.842210292816162\n",
      "Rank:  8 01669 照 False -7.8598713874816895\n",
      "Rank:  9 01821 発 False -7.882016181945801\n",
      "Rank: 10 01961 究 False -7.905028343200684\n",
      "Rank: 11 01916 禁 False -7.916675090789795\n",
      "Rank: 12 01986 笈 False -7.955872535705566\n",
      "Rank: 13 02928 飛 False -7.976400375366211\n",
      "Rank: 14 01991 符 False -7.981154441833496\n",
      "Rank: 15 01661 無 False -7.990220069885254\n",
      "torch.Size([65, 1, 128, 128])\n"
     ]
    },
    {
     "data": {
      "image/png": "[encoded data removed]",
      "text/plain": [
       "<Figure size 300x300 with 1 Axes>"
      ]
     },
     "metadata": {},
     "output_type": "display_data"
    },
    {
     "data": {
      "image/png": "[encoded data removed]",
      "text/plain": [
       "<Figure size 300x300 with 1 Axes>"
      ]
     },
     "metadata": {},
     "output_type": "display_data"
    },
    {
     "data": {
      "image/png": "[encoded data removed]",
      "text/plain": [
       "<Figure size 500x500 with 64 Axes>"
      ]
     },
     "metadata": {},
     "output_type": "display_data"
    }
   ],
   "source": [
    "model_predict(model, sample_data_, sample_label_, 0.0, 15)\n",
    "check_patches(sample_data_, 0.0)"
   ]
  },
  {
   "cell_type": "code",
   "execution_count": 66,
   "id": "d4793c02",
   "metadata": {},
   "outputs": [
    {
     "data": {
      "image/png": "[encoded data removed]",
      "text/plain": [
       "<Figure size 640x480 with 1 Axes>"
      ]
     },
     "metadata": {},
     "output_type": "display_data"
    },
    {
     "name": "stdout",
     "output_type": "stream",
     "text": [
      "1720 0x72fc 狼\n",
      "Rank:  1 00938 徳 False -7.028426170349121\n",
      "Rank:  2 02435 複 False -7.038039684295654\n",
      "Rank:  3 01720 狼 True -7.0459723472595215\n",
      "Rank:  4 02447 視 False -7.047368049621582\n",
      "Rank:  5 00935 復 False -7.364817142486572\n",
      "Rank:  6 01952 穂 False -7.417016983032227\n",
      "Rank:  7 01211 旗 False -7.483440399169922\n",
      "Rank:  8 01729 猿 False -7.705781936645508\n",
      "Rank:  9 01608 漁 False -7.715387344360352\n",
      "Rank: 10 00908 張 False -7.7165846824646\n",
      "Rank: 11 01348 根 False -7.826406478881836\n",
      "Rank: 12 01956 穏 False -7.834957122802734\n",
      "Rank: 13 02084 絶 False -7.857043266296387\n",
      "Rank: 14 00198 便 False -7.867589950561523\n",
      "Rank: 15 01568 混 False -7.898009777069092\n",
      "Rank: 16 01557 液 False -7.913294792175293\n",
      "Rank: 17 02545 貌 False -7.914274215698242\n",
      "Rank: 18 00923 彼 False -7.919699668884277\n",
      "Rank: 19 02446 規 False -7.924351215362549\n",
      "Rank: 20 01135 提 False -7.948416709899902\n",
      "torch.Size([1, 1, 128, 128])\n"
     ]
    },
    {
     "data": {
      "image/png": "[encoded data removed]",
      "text/plain": [
       "<Figure size 300x300 with 1 Axes>"
      ]
     },
     "metadata": {},
     "output_type": "display_data"
    },
    {
     "data": {
      "image/png": "[encoded data removed]",
      "text/plain": [
       "<Figure size 300x300 with 1 Axes>"
      ]
     },
     "metadata": {},
     "output_type": "display_data"
    },
    {
     "data": {
      "image/png": "[encoded data removed]",
      "text/plain": [
       "<Figure size 500x500 with 64 Axes>"
      ]
     },
     "metadata": {},
     "output_type": "display_data"
    }
   ],
   "source": [
    "user_sample_img = torch.tensor([read_image_data('./user_samples/05.png')], dtype=torch.uint8)\n",
    "model_predict(model,\n",
    "              user_sample_img,\n",
    "              torch.tensor([classes[char_to_hex('狼')]]),\n",
    "              noise=0.0,\n",
    "              top_n=20\n",
    "              )\n",
    "check_patches(user_sample_img, 0.0)"
   ]
  },
  {
   "cell_type": "code",
   "execution_count": null,
   "id": "0d1d9b10",
   "metadata": {},
   "outputs": [
    {
     "data": {
      "text/plain": [
       "True"
      ]
     },
     "execution_count": 51,
     "metadata": {},
     "output_type": "execute_result"
    }
   ],
   "source": [
    "torch.cuda.is_available()"
   ]
  },
  {
   "cell_type": "code",
   "execution_count": null,
   "id": "49665c3d",
   "metadata": {},
   "outputs": [
    {
     "data": {
      "text/plain": [
       "1"
      ]
     },
     "execution_count": 52,
     "metadata": {},
     "output_type": "execute_result"
    }
   ],
   "source": [
    "torch.cuda.device_count()"
   ]
  },
  {
   "cell_type": "code",
   "execution_count": null,
   "id": "65bd730a",
   "metadata": {},
   "outputs": [
    {
     "data": {
      "text/plain": [
       "0"
      ]
     },
     "execution_count": 53,
     "metadata": {},
     "output_type": "execute_result"
    }
   ],
   "source": [
    "torch.cuda.current_device()"
   ]
  },
  {
   "cell_type": "code",
   "execution_count": null,
   "id": "b3bebd55",
   "metadata": {},
   "outputs": [
    {
     "name": "stdout",
     "output_type": "stream",
     "text": [
      "11.8\n"
     ]
    }
   ],
   "source": [
    "print(torch.version.cuda)"
   ]
  },
  {
   "cell_type": "code",
   "execution_count": null,
   "id": "544f6e03",
   "metadata": {},
   "outputs": [
    {
     "data": {
      "text/plain": [
       "tensor([[[0.8140, 0.4868],\n",
       "         [0.9601, 0.7754],\n",
       "         [0.8962, 0.0491],\n",
       "         [0.6512, 0.6928]],\n",
       "\n",
       "        [[0.3894, 0.0096],\n",
       "         [0.0942, 0.8230],\n",
       "         [0.7917, 0.1312],\n",
       "         [0.9673, 0.3296]]])"
      ]
     },
     "execution_count": 55,
     "metadata": {},
     "output_type": "execute_result"
    }
   ],
   "source": [
    "mlem = torch.rand(2,4,2)#[:, 0]\n",
    "mlem_dropout = nn.Dropout(p=0.50)\n",
    "mlem"
   ]
  },
  {
   "cell_type": "code",
   "execution_count": null,
   "id": "7a8a94ef",
   "metadata": {},
   "outputs": [
    {
     "data": {
      "text/plain": [
       "tensor([[[1.6281, 0.9735],\n",
       "         [1.9203, 1.5508],\n",
       "         [1.7924, 0.0981],\n",
       "         [0.0000, 1.3857]],\n",
       "\n",
       "        [[0.0000, 0.0000],\n",
       "         [0.0000, 0.0000],\n",
       "         [1.5834, 0.0000],\n",
       "         [0.0000, 0.0000]]])"
      ]
     },
     "execution_count": 56,
     "metadata": {},
     "output_type": "execute_result"
    }
   ],
   "source": [
    "mlem_dropout(mlem)"
   ]
  },
  {
   "cell_type": "markdown",
   "id": "bdbcf93c",
   "metadata": {},
   "source": [
    "From: https://stackoverflow.com/questions/61647207/how-to-extract-patches-from-an-image-in-pytorch"
   ]
  },
  {
   "cell_type": "code",
   "execution_count": null,
   "id": "86da7670",
   "metadata": {},
   "outputs": [],
   "source": [
    "patch_size = 8"
   ]
  },
  {
   "cell_type": "code",
   "execution_count": null,
   "id": "dae14e97",
   "metadata": {},
   "outputs": [
    {
     "name": "stdout",
     "output_type": "stream",
     "text": [
      "torch.Size([100, 1, 16, 16])\n",
      "tensor([[0.8363, 0.0416, 0.7600, 0.3908, 0.8783, 0.6077, 0.0190, 0.4757, 0.0232,\n",
      "         0.0208, 0.2932, 0.5074, 0.6111, 0.1888, 0.8078, 0.2384],\n",
      "        [0.8329, 0.5896, 0.6700, 0.6530, 0.3408, 0.6287, 0.7095, 0.1257, 0.0706,\n",
      "         0.0718, 0.0916, 0.7187, 0.3391, 0.1856, 0.2303, 0.5290],\n",
      "        [0.6380, 0.5747, 0.3333, 0.9254, 0.6373, 0.1022, 0.9620, 0.2880, 0.1594,\n",
      "         0.8649, 0.1631, 0.3496, 0.2890, 0.5945, 0.7806, 0.1145],\n",
      "        [0.3366, 0.7077, 0.9776, 0.9259, 0.2153, 0.3180, 0.4723, 0.8698, 0.2558,\n",
      "         0.8450, 0.8330, 0.6345, 0.1536, 0.4638, 0.2672, 0.8064],\n",
      "        [0.9431, 0.7713, 0.2999, 0.6828, 0.1916, 0.2540, 0.4744, 0.1404, 0.7984,\n",
      "         0.5032, 0.4763, 0.9725, 0.9274, 0.3202, 0.8815, 0.1232],\n",
      "        [0.7716, 0.6885, 0.1662, 0.7855, 0.0197, 0.4603, 0.2746, 0.2072, 0.0773,\n",
      "         0.8922, 0.3690, 0.4870, 0.6706, 0.4452, 0.4022, 0.3822],\n",
      "        [0.7958, 0.9597, 0.4899, 0.9073, 0.3902, 0.9889, 0.1014, 0.3347, 0.7229,\n",
      "         0.6821, 0.8763, 0.7951, 0.6690, 0.7837, 0.6974, 0.1706],\n",
      "        [0.7944, 0.3076, 0.6371, 0.3090, 0.2885, 0.3937, 0.9449, 0.2518, 0.7290,\n",
      "         0.0543, 0.0385, 0.0927, 0.9142, 0.3132, 0.4670, 0.0904],\n",
      "        [0.3736, 0.1891, 0.0339, 0.9604, 0.6354, 0.2611, 0.7589, 0.8881, 0.1665,\n",
      "         0.7954, 0.9759, 0.2441, 0.7544, 0.0700, 0.2657, 0.5086],\n",
      "        [0.2579, 0.1379, 0.3710, 0.6621, 0.0796, 0.7530, 0.0430, 0.5478, 0.7544,\n",
      "         0.5947, 0.6950, 0.3691, 0.5541, 0.8492, 0.5570, 0.5599],\n",
      "        [0.7805, 0.5660, 0.5610, 0.9683, 0.1186, 0.0211, 0.1854, 0.0414, 0.9710,\n",
      "         0.5429, 0.9901, 0.8013, 0.1685, 0.3730, 0.5362, 0.9734],\n",
      "        [0.7182, 0.7792, 0.1640, 0.0872, 0.9396, 0.2512, 0.5958, 0.4194, 0.9011,\n",
      "         0.8761, 0.9581, 0.3832, 0.4853, 0.9410, 0.6518, 0.6420],\n",
      "        [0.9682, 0.0607, 0.9022, 0.8564, 0.3777, 0.3596, 0.1433, 0.1525, 0.0728,\n",
      "         0.4793, 0.8622, 0.3663, 0.5865, 0.2855, 0.4499, 0.7918],\n",
      "        [0.7521, 0.5491, 0.9690, 0.7140, 0.5395, 0.8148, 0.8317, 0.9465, 0.6592,\n",
      "         0.6761, 0.0207, 0.8115, 0.9019, 0.8899, 0.9484, 0.5883],\n",
      "        [0.7329, 0.7559, 0.7792, 0.2474, 0.2182, 0.9107, 0.1744, 0.8113, 0.7040,\n",
      "         0.5806, 0.4749, 0.7451, 0.8799, 0.9363, 0.6087, 0.7828],\n",
      "        [0.1182, 0.9138, 0.8754, 0.5621, 0.3188, 0.1543, 0.5515, 0.8859, 0.2161,\n",
      "         0.5700, 0.9644, 0.7306, 0.2972, 0.1821, 0.2050, 0.0961]])\n"
     ]
    }
   ],
   "source": [
    "ttt = torch.rand(BATCH_SIZE,1,16,16)\n",
    "print(ttt.size())\n",
    "print(ttt[0][0])"
   ]
  },
  {
   "cell_type": "code",
   "execution_count": null,
   "id": "97710ca4",
   "metadata": {},
   "outputs": [],
   "source": [
    "#print(ttt.unfold(2,patch_size,patch_size).unfold(3,patch_size,patch_size))"
   ]
  },
  {
   "cell_type": "code",
   "execution_count": null,
   "id": "ca5bd2fc",
   "metadata": {},
   "outputs": [
    {
     "name": "stdout",
     "output_type": "stream",
     "text": [
      "torch.Size([100, 4, 64])\n"
     ]
    },
    {
     "data": {
      "text/plain": [
       "tensor(0.8363)"
      ]
     },
     "execution_count": 60,
     "metadata": {},
     "output_type": "execute_result"
    }
   ],
   "source": [
    "ttt_f = torch.squeeze(ttt.unfold(2, patch_size, patch_size).unfold(3 ,patch_size, patch_size).reshape(BATCH_SIZE,\n",
    "                                                                                                      1, -1, patch_size, patch_size).flatten(3), 1)\n",
    "print(ttt_f.size())\n",
    "ttt_f[0][0][0]"
   ]
  },
  {
   "cell_type": "code",
   "execution_count": null,
   "id": "a1a2d59b",
   "metadata": {},
   "outputs": [
    {
     "data": {
      "text/plain": [
       "tensor([[0.8236, 0.2439, 0.0203, 0.6826, 0.1814, 0.4239, 0.8783, 0.6773],\n",
       "        [0.8961, 0.0425, 0.1593, 0.1384, 0.4270, 0.4672, 0.6935, 0.1733],\n",
       "        [0.3240, 0.9774, 0.3538, 0.7762, 0.4575, 0.2683, 0.8972, 0.5107],\n",
       "        [0.8411, 0.8967, 0.1361, 0.7925, 0.0923, 0.1306, 0.5502, 0.6006],\n",
       "        [0.6099, 0.5807, 0.1575, 0.1454, 0.4509, 0.4824, 0.5501, 0.4662],\n",
       "        [0.1045, 0.7746, 0.7667, 0.1459, 0.0263, 0.8011, 0.2882, 0.9259],\n",
       "        [0.7717, 0.2918, 0.3996, 0.8189, 0.5880, 0.6721, 0.3878, 0.5005],\n",
       "        [0.5496, 0.0186, 0.0950, 0.8591, 0.6869, 0.1948, 0.9392, 0.8840]])"
      ]
     },
     "execution_count": 61,
     "metadata": {},
     "output_type": "execute_result"
    }
   ],
   "source": [
    "aaa = torch.rand(8,8)\n",
    "aaa"
   ]
  },
  {
   "cell_type": "code",
   "execution_count": null,
   "id": "d6935447",
   "metadata": {},
   "outputs": [
    {
     "data": {
      "text/plain": [
       "tensor([[[0.8236, 0.8961, 0.3240, 0.8411],\n",
       "         [0.2439, 0.0425, 0.9774, 0.8967],\n",
       "         [0.0203, 0.1593, 0.3538, 0.1361],\n",
       "         [0.6826, 0.1384, 0.7762, 0.7925],\n",
       "         [0.1814, 0.4270, 0.4575, 0.0923],\n",
       "         [0.4239, 0.4672, 0.2683, 0.1306],\n",
       "         [0.8783, 0.6935, 0.8972, 0.5502],\n",
       "         [0.6773, 0.1733, 0.5107, 0.6006]],\n",
       "\n",
       "        [[0.6099, 0.1045, 0.7717, 0.5496],\n",
       "         [0.5807, 0.7746, 0.2918, 0.0186],\n",
       "         [0.1575, 0.7667, 0.3996, 0.0950],\n",
       "         [0.1454, 0.1459, 0.8189, 0.8591],\n",
       "         [0.4509, 0.0263, 0.5880, 0.6869],\n",
       "         [0.4824, 0.8011, 0.6721, 0.1948],\n",
       "         [0.5501, 0.2882, 0.3878, 0.9392],\n",
       "         [0.4662, 0.9259, 0.5005, 0.8840]]])"
      ]
     },
     "execution_count": 62,
     "metadata": {},
     "output_type": "execute_result"
    }
   ],
   "source": [
    "aaa.unfold(0, 4, 4)"
   ]
  },
  {
   "cell_type": "code",
   "execution_count": null,
   "id": "5470cad8",
   "metadata": {},
   "outputs": [
    {
     "data": {
      "text/plain": [
       "tensor([[[[0.8236, 0.2439, 0.0203, 0.6826],\n",
       "          [0.8961, 0.0425, 0.1593, 0.1384],\n",
       "          [0.3240, 0.9774, 0.3538, 0.7762],\n",
       "          [0.8411, 0.8967, 0.1361, 0.7925]],\n",
       "\n",
       "         [[0.1814, 0.4239, 0.8783, 0.6773],\n",
       "          [0.4270, 0.4672, 0.6935, 0.1733],\n",
       "          [0.4575, 0.2683, 0.8972, 0.5107],\n",
       "          [0.0923, 0.1306, 0.5502, 0.6006]]],\n",
       "\n",
       "\n",
       "        [[[0.6099, 0.5807, 0.1575, 0.1454],\n",
       "          [0.1045, 0.7746, 0.7667, 0.1459],\n",
       "          [0.7717, 0.2918, 0.3996, 0.8189],\n",
       "          [0.5496, 0.0186, 0.0950, 0.8591]],\n",
       "\n",
       "         [[0.4509, 0.4824, 0.5501, 0.4662],\n",
       "          [0.0263, 0.8011, 0.2882, 0.9259],\n",
       "          [0.5880, 0.6721, 0.3878, 0.5005],\n",
       "          [0.6869, 0.1948, 0.9392, 0.8840]]]])"
      ]
     },
     "execution_count": 63,
     "metadata": {},
     "output_type": "execute_result"
    }
   ],
   "source": [
    "aaa.unfold(0, 4, 4).unfold(1, 4, 4)"
   ]
  },
  {
   "cell_type": "code",
   "execution_count": null,
   "id": "3f19db40",
   "metadata": {},
   "outputs": [
    {
     "data": {
      "text/plain": [
       "tensor([[[0.8236, 0.2439, 0.0203, 0.6826],\n",
       "         [0.8961, 0.0425, 0.1593, 0.1384],\n",
       "         [0.3240, 0.9774, 0.3538, 0.7762],\n",
       "         [0.8411, 0.8967, 0.1361, 0.7925]],\n",
       "\n",
       "        [[0.1814, 0.4239, 0.8783, 0.6773],\n",
       "         [0.4270, 0.4672, 0.6935, 0.1733],\n",
       "         [0.4575, 0.2683, 0.8972, 0.5107],\n",
       "         [0.0923, 0.1306, 0.5502, 0.6006]],\n",
       "\n",
       "        [[0.6099, 0.5807, 0.1575, 0.1454],\n",
       "         [0.1045, 0.7746, 0.7667, 0.1459],\n",
       "         [0.7717, 0.2918, 0.3996, 0.8189],\n",
       "         [0.5496, 0.0186, 0.0950, 0.8591]],\n",
       "\n",
       "        [[0.4509, 0.4824, 0.5501, 0.4662],\n",
       "         [0.0263, 0.8011, 0.2882, 0.9259],\n",
       "         [0.5880, 0.6721, 0.3878, 0.5005],\n",
       "         [0.6869, 0.1948, 0.9392, 0.8840]]])"
      ]
     },
     "execution_count": 64,
     "metadata": {},
     "output_type": "execute_result"
    }
   ],
   "source": [
    "aaa.unfold(0, 4, 4).unfold(1, 4, 4).reshape(-1, 4, 4)"
   ]
  },
  {
   "cell_type": "code",
   "execution_count": null,
   "id": "936636b2",
   "metadata": {},
   "outputs": [],
   "source": []
  }
 ],
 "metadata": {
  "kernelspec": {
   "display_name": "Python 3 (ipykernel)",
   "language": "python",
   "name": "python3"
  },
  "language_info": {
   "codemirror_mode": {
    "name": "ipython",
    "version": 3
   },
   "file_extension": ".py",
   "mimetype": "text/x-python",
   "name": "python",
   "nbconvert_exporter": "python",
   "pygments_lexer": "ipython3",
   "version": "3.12.2"
  }
 },
 "nbformat": 4,
 "nbformat_minor": 5
}
