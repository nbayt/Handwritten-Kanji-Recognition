{
 "cells": [
  {
   "cell_type": "markdown",
   "metadata": {},
   "source": [
    "Taken from: https://stackoverflow.com/questions/55575685/jupyter-notebook-let-a-user-inputs-a-drawing"
   ]
  },
  {
   "cell_type": "code",
   "execution_count": 1,
   "metadata": {},
   "outputs": [],
   "source": [
    "from PIL import ImageTk, Image, ImageDraw\n",
    "import PIL\n",
    "from tkinter import *\n",
    "import numpy as np\n",
    "import os\n",
    "import torch"
   ]
  },
  {
   "cell_type": "code",
   "execution_count": 2,
   "metadata": {},
   "outputs": [],
   "source": [
    "def char_to_hex(chr):\n",
    "    return hex(ord(chr))\n",
    "def hex_to_char(hex):\n",
    "    if type(hex) == int:\n",
    "        return chr(hex)\n",
    "    else:\n",
    "        return chr(int(hex, 16))\n",
    "#char_to_hex('餃')"
   ]
  },
  {
   "cell_type": "code",
   "execution_count": 3,
   "metadata": {},
   "outputs": [
    {
     "name": "stdout",
     "output_type": "stream",
     "text": [
      "Loaded from file!\n"
     ]
    }
   ],
   "source": [
    "# str hex to int label\n",
    "classes = dict() \n",
    "# Int label to str hex\n",
    "inverted_classes = dict()\n",
    "# Load Label data if we have it\n",
    "LABEL_FILE = 'labels.txt'\n",
    "if os.path.isfile('labels_mapping.txt'):\n",
    "    dat = torch.load('labels_mapping.txt')\n",
    "    classes = dat['classes']\n",
    "    inverted_classes = dat['inverted_classes']\n",
    "    loaded_labels=True\n",
    "    print('Loaded from file!')"
   ]
  },
  {
   "cell_type": "code",
   "execution_count": 4,
   "metadata": {},
   "outputs": [],
   "source": [
    "EVAL_PATH = './user_samples/eval/'\n",
    "def save_character(_image, _label):\n",
    "    hex_label = char_to_hex(_label)\n",
    "    for path, dirs, _ in os.walk(EVAL_PATH):\n",
    "        if hex_label not in dirs:\n",
    "            os.mkdir(os.path.join(EVAL_PATH, hex_label))\n",
    "        break\n",
    "    for path, _, files in os.walk(os.path.join(EVAL_PATH, hex_label)):\n",
    "        counts = len(files)\n",
    "        full_path = os.path.join(EVAL_PATH, hex_label, f'{counts:04d}.png')\n",
    "        _image.save(full_path)\n",
    "        print(f'Saved image to {full_path}, {_label}, {hex_label}')\n",
    "        break"
   ]
  },
  {
   "cell_type": "code",
   "execution_count": 5,
   "metadata": {},
   "outputs": [
    {
     "name": "stdout",
     "output_type": "stream",
     "text": [
      "Saved image to ./user_samples/eval/0x984c\\0000.png, 題, 0x984c\n",
      "Saved image to ./user_samples/eval/0x984c\\0001.png, 題, 0x984c\n",
      "Saved image to ./user_samples/eval/0x59a5\\0000.png, 妥, 0x59a5\n",
      "Saved image to ./user_samples/eval/0x59a5\\0001.png, 妥, 0x59a5\n",
      "Saved image to ./user_samples/eval/0x6e90\\0000.png, 源, 0x6e90\n",
      "Saved image to ./user_samples/eval/0x6e90\\0001.png, 源, 0x6e90\n",
      "Saved image to ./user_samples/eval/0x3071\\0000.png, ぱ, 0x3071\n",
      "Saved image to ./user_samples/eval/0x3071\\0001.png, ぱ, 0x3071\n",
      "Saved image to ./user_samples/eval/0x8ff0\\0000.png, 述, 0x8ff0\n",
      "Saved image to ./user_samples/eval/0x8ff0\\0001.png, 述, 0x8ff0\n",
      "Saved image to ./user_samples/eval/0x5bb9\\0000.png, 容, 0x5bb9\n",
      "Saved image to ./user_samples/eval/0x5bb9\\0001.png, 容, 0x5bb9\n",
      "Saved image to ./user_samples/eval/0x5449\\0000.png, 呉, 0x5449\n",
      "Saved image to ./user_samples/eval/0x5449\\0001.png, 呉, 0x5449\n",
      "Saved image to ./user_samples/eval/0x56e0\\0000.png, 因, 0x56e0\n",
      "Saved image to ./user_samples/eval/0x56e0\\0001.png, 因, 0x56e0\n",
      "Saved image to ./user_samples/eval/0x65e5\\0000.png, 日, 0x65e5\n",
      "Saved image to ./user_samples/eval/0x65e5\\0001.png, 日, 0x65e5\n",
      "Saved image to ./user_samples/eval/0x65e5\\0002.png, 日, 0x65e5\n",
      "Saved image to ./user_samples/eval/0x3068\\0000.png, と, 0x3068\n",
      "Saved image to ./user_samples/eval/0x3068\\0001.png, と, 0x3068\n",
      "Saved image to ./user_samples/eval/0x3068\\0002.png, と, 0x3068\n",
      "Saved image to ./user_samples/eval/0x6841\\0000.png, 桁, 0x6841\n",
      "Saved image to ./user_samples/eval/0x53ca\\0000.png, 及, 0x53ca\n",
      "Saved image to ./user_samples/eval/0x53ca\\0001.png, 及, 0x53ca\n",
      "Saved image to ./user_samples/eval/0x9996\\0000.png, 首, 0x9996\n",
      "Saved image to ./user_samples/eval/0x9996\\0001.png, 首, 0x9996\n",
      "Saved image to ./user_samples/eval/0x3046\\0000.png, う, 0x3046\n",
      "Saved image to ./user_samples/eval/0x76bf\\0000.png, 皿, 0x76bf\n",
      "Saved image to ./user_samples/eval/0x76bf\\0001.png, 皿, 0x76bf\n",
      "Saved image to ./user_samples/eval/0x78d0\\0000.png, 磐, 0x78d0\n",
      "Saved image to ./user_samples/eval/0x8cc2\\0000.png, 賂, 0x8cc2\n",
      "Saved image to ./user_samples/eval/0x8cc2\\0001.png, 賂, 0x8cc2\n",
      "Saved image to ./user_samples/eval/0x516b\\0000.png, 八, 0x516b\n",
      "Saved image to ./user_samples/eval/0x4e5d\\0000.png, 九, 0x4e5d\n",
      "Saved image to ./user_samples/eval/0x4e5d\\0001.png, 九, 0x4e5d\n",
      "Saved image to ./user_samples/eval/0x57df\\0000.png, 域, 0x57df\n",
      "Saved image to ./user_samples/eval/0x57df\\0001.png, 域, 0x57df\n",
      "Saved image to ./user_samples/eval/0x5357\\0000.png, 南, 0x5357\n",
      "Saved image to ./user_samples/eval/0x5357\\0001.png, 南, 0x5357\n",
      "Saved image to ./user_samples/eval/0x4fdd\\0000.png, 保, 0x4fdd\n"
     ]
    }
   ],
   "source": [
    "width = 128  # canvas width\n",
    "height = 128 # canvas height\n",
    "center = height//2\n",
    "white = 255 # canvas back\n",
    "\n",
    "from IPython.display import display, HTML\n",
    "\n",
    "def save():\n",
    "    save_character(output_image, kanji_label.get())\n",
    "    # Save image to hard drive\n",
    "    filename = \"user_input.png\"\n",
    "\n",
    "def erase():\n",
    "    canvas.create_oval(-200,-200,200,200, fill='white', width=0)\n",
    "    draw.ellipse([-200,-200,200,200], fill='white', outline='white')\n",
    "\n",
    "def next_char():\n",
    "    kanji_label.delete(0)\n",
    "    rand_choice = np.random.randint(0, len(classes))\n",
    "    kanji_label.insert(0,hex_to_char(inverted_classes[rand_choice]))\n",
    "\n",
    "def paint(event):\n",
    "    x1, y1 = (event.x - 1), (event.y - 1)\n",
    "    x2, y2 = (event.x + 1), (event.y + 1)\n",
    "    canvas.create_oval(x1, y1, x2, y2, fill='black', width=1)\n",
    "    draw.line([x1, y1, x2, y2], fill='black', width=1)\n",
    "\n",
    "master = Tk()\n",
    "\n",
    "# create a tkinter canvas to draw on\n",
    "canvas = Canvas(master, width=width, height=height, bg='white')\n",
    "canvas.pack()\n",
    "\n",
    "# create an empty PIL image and draw object to draw on\n",
    "output_image = PIL.Image.new(\"L\", (width, height), white)\n",
    "draw = ImageDraw.Draw(output_image)\n",
    "canvas.pack(expand=NO, fill=None)\n",
    "canvas.bind(\"<B1-Motion>\", paint)\n",
    "\n",
    "# add a button to save the image\n",
    "button = Button(text=\"save\", command=save)\n",
    "erase_button = Button(text='erase', command=erase)\n",
    "next_button = Button(text='next', command=next_char)\n",
    "kanji_label = Entry(font=('Helvetica', '24'))\n",
    "kanji_label.pack()\n",
    "button.pack()\n",
    "erase_button.pack()\n",
    "next_button.pack()\n",
    "\n",
    "master.mainloop()"
   ]
  },
  {
   "cell_type": "code",
   "execution_count": null,
   "metadata": {},
   "outputs": [],
   "source": []
  }
 ],
 "metadata": {
  "kernelspec": {
   "display_name": "csc761projectcuda",
   "language": "python",
   "name": "python3"
  },
  "language_info": {
   "codemirror_mode": {
    "name": "ipython",
    "version": 3
   },
   "file_extension": ".py",
   "mimetype": "text/x-python",
   "name": "python",
   "nbconvert_exporter": "python",
   "pygments_lexer": "ipython3",
   "version": "3.12.2"
  }
 },
 "nbformat": 4,
 "nbformat_minor": 2
}
